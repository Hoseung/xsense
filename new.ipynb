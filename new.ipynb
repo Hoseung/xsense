{
 "cells": [
  {
   "cell_type": "code",
   "execution_count": 57,
   "metadata": {},
   "outputs": [],
   "source": [
    "import matplotlib \n",
    "matplotlib.use('TkAgg')\n",
    "import matplotlib.pyplot as plt\n",
    "from matplotlib.animation import FuncAnimation\n",
    "from mpl_toolkits.mplot3d import Axes3D\n",
    "\n",
    "import numpy as np\n",
    "import c3d\n",
    "from lxml import etree"
   ]
  },
  {
   "cell_type": "code",
   "execution_count": 17,
   "metadata": {},
   "outputs": [],
   "source": [
    "def get_label(items):\n",
    "    for ii in items:\n",
    "        if ii[0] == \"label\":\n",
    "            return ii[1]"
   ]
  },
  {
   "cell_type": "code",
   "execution_count": 92,
   "metadata": {},
   "outputs": [],
   "source": [
    "with open(\"./data/Youngjin/yj-004.mvnx\", 'r') as xml_file:\n",
    "    xml_tree = etree.parse(xml_file)\n",
    "root = xml_tree.getroot()"
   ]
  },
  {
   "cell_type": "code",
   "execution_count": 93,
   "metadata": {},
   "outputs": [],
   "source": [
    "ns = {'mvnx': 'http://www.xsens.com/mvn/mvnx'}\n",
    "frames_data = []\n",
    "\n",
    "# Iterate through all frames\n",
    "for frame in root.findall(\".//mvnx:frame\", ns):\n",
    "    frame_time = float(frame.get(\"time\"))\n",
    "    frame_index = frame.get(\"index\")\n",
    "    \n",
    "    # Extract the position data\n",
    "    position_data = frame.find(\"mvnx:position\", ns).text.strip().split()\n",
    "    position_data = [float(x) for x in position_data]\n",
    "    position_array = np.array(position_data).reshape(-1, 3)\n",
    "    \n",
    "    frames_data.append((frame_time, frame_index, position_array))\n"
   ]
  },
  {
   "cell_type": "code",
   "execution_count": 94,
   "metadata": {},
   "outputs": [],
   "source": [
    "frame_t = np.zeros(len(frames_data), dtype=int)\n",
    "pos3d = np.zeros(((len(frames_data), 23, 3)))\n",
    "for i, frame in enumerate(frames_data):\n",
    "    frame_t[i], _, pos3d[i] = frame\n",
    "    \n",
    "pos3d *= 1000"
   ]
  },
  {
   "cell_type": "code",
   "execution_count": 95,
   "metadata": {},
   "outputs": [],
   "source": [
    "np.save(\"youngjin.npy\", pos3d)"
   ]
  },
  {
   "cell_type": "markdown",
   "metadata": {},
   "source": [
    "23개 포인트의 이름은?  \n",
    "\n",
    "    0: Pelvis_c\n",
    "    1: spine_1\n",
    "    2: spine_2\n",
    "    3: spine_3\n",
    "    4: back\n",
    "    5: neck\n",
    "    6: head\n",
    "    7: r_inner_scapula\n",
    "    8: r_shoulder\n",
    "    9: r_elbow\n",
    "    10: r_wrist\n",
    "    11: l_inner_scapula\n",
    "    12: l_shoulder\n",
    "    13: l_elbow\n",
    "    14: l_wrist\n",
    "    15: r_hip\n",
    "    16: r_knee\n",
    "    17: r_ankle\n",
    "    18: r_foot\n",
    "    19: l_hip\n",
    "    20: l_knee\n",
    "    21: l_ankle\n",
    "    22: l_foot\n",
    "\n",
    "연결 순서는?"
   ]
  },
  {
   "cell_type": "code",
   "execution_count": 78,
   "metadata": {},
   "outputs": [],
   "source": [
    "connections = [(0,1),(1,2),(2,3), (3,4),(4,5),(5,6),\n",
    "               (4,7),(7,8),(8,9),(9,10),\n",
    "               (4,11), (11,12), (12,13), (13,14),\n",
    "               (0, 15), (15,16), (16,17), (17,18),\n",
    "               (0,19), (19,20), (20,21), (21,22)]"
   ]
  },
  {
   "cell_type": "code",
   "execution_count": 79,
   "metadata": {},
   "outputs": [],
   "source": [
    "for frame_idx in range(0, 10):\n",
    "    fig = plt.figure(figsize=(8, 6))\n",
    "    ax = fig.add_subplot(111, projection='3d')\n",
    "\n",
    "    data = pos3d\n",
    "\n",
    "    x = data[frame_idx, :, 0]\n",
    "    y = data[frame_idx, :, 1]\n",
    "    z = data[frame_idx, :, 2]\n",
    "\n",
    "    for i in range(len(x)):\n",
    "        ax.scatter(x[i], y[i], z[i], c='b', marker='o')\n",
    "        ax.text(x[i], y[i], z[i], f'{i}', color='black')\n",
    "\n",
    "    for conn in connections:\n",
    "        ax.plot([x[conn[0]], x[conn[1]]], [y[conn[0]], y[conn[1]]], [z[conn[0]], z[conn[1]]], c='b')\n",
    "    \n",
    "    ax.set_xlim([-200, 1000])\n",
    "    ax.set_ylim([-1000, 1000])\n",
    "    ax.set_zlim([-50, 2000])\n",
    "\n",
    "    ax.set_xlabel('X axis')\n",
    "    ax.set_ylabel('Y axis')\n",
    "    ax.set_zlabel('Z axis')\n",
    "\n",
    "    ax.set_aspect(\"equal\")\n",
    "\n",
    "    ax.set_title(f\"Frame {frame_idx}\")\n",
    "\n",
    "    plt.savefig(f\"./output/mw_frame_{frame_idx:04d}.png\")\n",
    "    plt.close()"
   ]
  },
  {
   "cell_type": "code",
   "execution_count": null,
   "metadata": {},
   "outputs": [],
   "source": []
  },
  {
   "cell_type": "code",
   "execution_count": null,
   "metadata": {},
   "outputs": [],
   "source": []
  },
  {
   "cell_type": "code",
   "execution_count": null,
   "metadata": {},
   "outputs": [],
   "source": []
  },
  {
   "cell_type": "code",
   "execution_count": 15,
   "metadata": {},
   "outputs": [],
   "source": [
    "subject = root.getchildren()[2]\n",
    "segments = subject.getchildren()[1]\n",
    "child = segments.getchildren()[0]"
   ]
  },
  {
   "cell_type": "markdown",
   "metadata": {},
   "source": [
    "### Count the number of points"
   ]
  },
  {
   "cell_type": "code",
   "execution_count": 26,
   "metadata": {},
   "outputs": [
    {
     "name": "stdout",
     "output_type": "stream",
     "text": [
      "Segment Pelvis\n",
      "Segment L5\n",
      "Segment L3\n",
      "Segment T12\n",
      "Segment T8\n",
      "Segment Neck\n",
      "Segment Head\n",
      "Segment RightShoulder\n",
      "Segment RightUpperArm\n",
      "Segment RightForeArm\n",
      "Segment RightHand\n",
      "Segment LeftShoulder\n",
      "Segment LeftUpperArm\n",
      "Segment LeftForeArm\n",
      "Segment LeftHand\n",
      "Segment RightUpperLeg\n",
      "Segment RightLowerLeg\n",
      "Segment RightFoot\n",
      "Segment RightToe\n",
      "Segment LeftUpperLeg\n",
      "Segment LeftLowerLeg\n",
      "Segment LeftFoot\n",
      "Segment LeftToe\n"
     ]
    }
   ],
   "source": [
    "all_labels=[]\n",
    "i =0\n",
    "for segment in segments.getchildren():\n",
    "    name = get_label(segment.items())\n",
    "    print(\"Segment\", name)\n",
    "    points = segment.getchildren()[0]\n",
    "    for point in points.getchildren():\n",
    "        nn = get_label(point.items())\n",
    "        all_labels.append(nn)\n",
    "        #print(i,f\"    {nn}\")\n",
    "        i+=1"
   ]
  },
  {
   "cell_type": "markdown",
   "metadata": {},
   "source": [
    "### Initial position"
   ]
  },
  {
   "cell_type": "code",
   "execution_count": 33,
   "metadata": {},
   "outputs": [
    {
     "data": {
      "text/plain": [
       "[]"
      ]
     },
     "execution_count": 33,
     "metadata": {},
     "output_type": "execute_result"
    }
   ],
   "source": [
    "pos_b.items()"
   ]
  },
  {
   "cell_type": "code",
   "execution_count": 30,
   "metadata": {},
   "outputs": [
    {
     "name": "stdout",
     "output_type": "stream",
     "text": [
      "Segment Pelvis\n",
      "<Element {http://www.xsens.com/mvn/mvnx}pos_b at 0x76e9e7f848c0>\n",
      "<Element {http://www.xsens.com/mvn/mvnx}pos_b at 0x76e9f0093fc0>\n",
      "<Element {http://www.xsens.com/mvn/mvnx}pos_b at 0x76e9e7f848c0>\n",
      "<Element {http://www.xsens.com/mvn/mvnx}pos_b at 0x76e9f0093fc0>\n",
      "<Element {http://www.xsens.com/mvn/mvnx}pos_b at 0x76e9e7f848c0>\n",
      "<Element {http://www.xsens.com/mvn/mvnx}pos_b at 0x76e9f0093fc0>\n",
      "<Element {http://www.xsens.com/mvn/mvnx}pos_b at 0x76e9e7f848c0>\n",
      "<Element {http://www.xsens.com/mvn/mvnx}pos_b at 0x76e9f0093fc0>\n",
      "<Element {http://www.xsens.com/mvn/mvnx}pos_b at 0x76e9e7f848c0>\n",
      "<Element {http://www.xsens.com/mvn/mvnx}pos_b at 0x76e9f0093fc0>\n",
      "<Element {http://www.xsens.com/mvn/mvnx}pos_b at 0x76e9e7f848c0>\n",
      "<Element {http://www.xsens.com/mvn/mvnx}pos_b at 0x76e9f0093fc0>\n",
      "<Element {http://www.xsens.com/mvn/mvnx}pos_b at 0x76e9e7f848c0>\n",
      "<Element {http://www.xsens.com/mvn/mvnx}pos_b at 0x76e9f0093fc0>\n",
      "<Element {http://www.xsens.com/mvn/mvnx}pos_b at 0x76e9e7f848c0>\n",
      "Segment L5\n",
      "<Element {http://www.xsens.com/mvn/mvnx}pos_b at 0x76e9e5d437c0>\n",
      "<Element {http://www.xsens.com/mvn/mvnx}pos_b at 0x76e9e5d42c80>\n",
      "<Element {http://www.xsens.com/mvn/mvnx}pos_b at 0x76e9e5d437c0>\n",
      "Segment L3\n",
      "<Element {http://www.xsens.com/mvn/mvnx}pos_b at 0x76e9e5d41ac0>\n",
      "<Element {http://www.xsens.com/mvn/mvnx}pos_b at 0x76e9e5d437c0>\n",
      "<Element {http://www.xsens.com/mvn/mvnx}pos_b at 0x76e9e5d41ac0>\n",
      "Segment T12\n",
      "<Element {http://www.xsens.com/mvn/mvnx}pos_b at 0x76e9e5d42c80>\n",
      "<Element {http://www.xsens.com/mvn/mvnx}pos_b at 0x76e9e5d41ac0>\n",
      "<Element {http://www.xsens.com/mvn/mvnx}pos_b at 0x76e9e5d42c80>\n",
      "Segment T8\n",
      "<Element {http://www.xsens.com/mvn/mvnx}pos_b at 0x76e9e5d437c0>\n",
      "<Element {http://www.xsens.com/mvn/mvnx}pos_b at 0x76e9e5d42c80>\n",
      "<Element {http://www.xsens.com/mvn/mvnx}pos_b at 0x76e9e5d437c0>\n",
      "<Element {http://www.xsens.com/mvn/mvnx}pos_b at 0x76e9e5d42c80>\n",
      "<Element {http://www.xsens.com/mvn/mvnx}pos_b at 0x76e9e5d437c0>\n",
      "<Element {http://www.xsens.com/mvn/mvnx}pos_b at 0x76e9e5d42c80>\n",
      "<Element {http://www.xsens.com/mvn/mvnx}pos_b at 0x76e9e5d437c0>\n",
      "<Element {http://www.xsens.com/mvn/mvnx}pos_b at 0x76e9e5d42c80>\n",
      "Segment Neck\n",
      "<Element {http://www.xsens.com/mvn/mvnx}pos_b at 0x76e9e5d41ac0>\n",
      "<Element {http://www.xsens.com/mvn/mvnx}pos_b at 0x76e9e5d42c80>\n",
      "<Element {http://www.xsens.com/mvn/mvnx}pos_b at 0x76e9e5d41ac0>\n",
      "Segment Head\n",
      "<Element {http://www.xsens.com/mvn/mvnx}pos_b at 0x76e9e5d41180>\n",
      "<Element {http://www.xsens.com/mvn/mvnx}pos_b at 0x76e9e5d41ac0>\n",
      "<Element {http://www.xsens.com/mvn/mvnx}pos_b at 0x76e9e5d41180>\n",
      "<Element {http://www.xsens.com/mvn/mvnx}pos_b at 0x76e9e5d41ac0>\n",
      "<Element {http://www.xsens.com/mvn/mvnx}pos_b at 0x76e9e5d41180>\n",
      "<Element {http://www.xsens.com/mvn/mvnx}pos_b at 0x76e9e5d41ac0>\n",
      "Segment RightShoulder\n",
      "<Element {http://www.xsens.com/mvn/mvnx}pos_b at 0x76e9e5d437c0>\n",
      "<Element {http://www.xsens.com/mvn/mvnx}pos_b at 0x76e9e5d41ac0>\n",
      "<Element {http://www.xsens.com/mvn/mvnx}pos_b at 0x76e9e5d437c0>\n",
      "Segment RightUpperArm\n",
      "<Element {http://www.xsens.com/mvn/mvnx}pos_b at 0x76e9e5d42c80>\n",
      "<Element {http://www.xsens.com/mvn/mvnx}pos_b at 0x76e9e5d437c0>\n",
      "<Element {http://www.xsens.com/mvn/mvnx}pos_b at 0x76e9e5d42c80>\n",
      "<Element {http://www.xsens.com/mvn/mvnx}pos_b at 0x76e9e5d437c0>\n",
      "Segment RightForeArm\n",
      "<Element {http://www.xsens.com/mvn/mvnx}pos_b at 0x76e9e5d43a00>\n",
      "<Element {http://www.xsens.com/mvn/mvnx}pos_b at 0x76e9e5d437c0>\n",
      "<Element {http://www.xsens.com/mvn/mvnx}pos_b at 0x76e9e5d43a00>\n",
      "<Element {http://www.xsens.com/mvn/mvnx}pos_b at 0x76e9e5d437c0>\n",
      "<Element {http://www.xsens.com/mvn/mvnx}pos_b at 0x76e9e5d43a00>\n",
      "<Element {http://www.xsens.com/mvn/mvnx}pos_b at 0x76e9e5d437c0>\n",
      "Segment RightHand\n",
      "<Element {http://www.xsens.com/mvn/mvnx}pos_b at 0x76e9e7f97480>\n",
      "<Element {http://www.xsens.com/mvn/mvnx}pos_b at 0x76e9e5d437c0>\n",
      "<Element {http://www.xsens.com/mvn/mvnx}pos_b at 0x76e9e7f97480>\n",
      "<Element {http://www.xsens.com/mvn/mvnx}pos_b at 0x76e9e5d437c0>\n",
      "<Element {http://www.xsens.com/mvn/mvnx}pos_b at 0x76e9e7f97480>\n",
      "<Element {http://www.xsens.com/mvn/mvnx}pos_b at 0x76e9e5d437c0>\n",
      "Segment LeftShoulder\n",
      "<Element {http://www.xsens.com/mvn/mvnx}pos_b at 0x76e9e5d43a00>\n",
      "<Element {http://www.xsens.com/mvn/mvnx}pos_b at 0x76e9e5d437c0>\n",
      "<Element {http://www.xsens.com/mvn/mvnx}pos_b at 0x76e9e5d43a00>\n",
      "Segment LeftUpperArm\n",
      "<Element {http://www.xsens.com/mvn/mvnx}pos_b at 0x76e9e5d41180>\n",
      "<Element {http://www.xsens.com/mvn/mvnx}pos_b at 0x76e9e5d43a00>\n",
      "<Element {http://www.xsens.com/mvn/mvnx}pos_b at 0x76e9e5d41180>\n",
      "<Element {http://www.xsens.com/mvn/mvnx}pos_b at 0x76e9e5d43a00>\n",
      "Segment LeftForeArm\n",
      "<Element {http://www.xsens.com/mvn/mvnx}pos_b at 0x76e9e5d40240>\n",
      "<Element {http://www.xsens.com/mvn/mvnx}pos_b at 0x76e9e5d43a00>\n",
      "<Element {http://www.xsens.com/mvn/mvnx}pos_b at 0x76e9e5d40240>\n",
      "<Element {http://www.xsens.com/mvn/mvnx}pos_b at 0x76e9e5d43a00>\n",
      "<Element {http://www.xsens.com/mvn/mvnx}pos_b at 0x76e9e5d40240>\n",
      "<Element {http://www.xsens.com/mvn/mvnx}pos_b at 0x76e9e5d43a00>\n",
      "Segment LeftHand\n",
      "<Element {http://www.xsens.com/mvn/mvnx}pos_b at 0x76e9e7f97480>\n",
      "<Element {http://www.xsens.com/mvn/mvnx}pos_b at 0x76e9e5d43a00>\n",
      "<Element {http://www.xsens.com/mvn/mvnx}pos_b at 0x76e9e7f97480>\n",
      "<Element {http://www.xsens.com/mvn/mvnx}pos_b at 0x76e9e5d43a00>\n",
      "<Element {http://www.xsens.com/mvn/mvnx}pos_b at 0x76e9e7f97480>\n",
      "<Element {http://www.xsens.com/mvn/mvnx}pos_b at 0x76e9e5d43a00>\n",
      "Segment RightUpperLeg\n",
      "<Element {http://www.xsens.com/mvn/mvnx}pos_b at 0x76e9e5d40240>\n",
      "<Element {http://www.xsens.com/mvn/mvnx}pos_b at 0x76e9e5d43a00>\n",
      "<Element {http://www.xsens.com/mvn/mvnx}pos_b at 0x76e9e5d40240>\n",
      "<Element {http://www.xsens.com/mvn/mvnx}pos_b at 0x76e9e5d43a00>\n",
      "<Element {http://www.xsens.com/mvn/mvnx}pos_b at 0x76e9e5d40240>\n",
      "<Element {http://www.xsens.com/mvn/mvnx}pos_b at 0x76e9e5d43a00>\n",
      "Segment RightLowerLeg\n",
      "<Element {http://www.xsens.com/mvn/mvnx}pos_b at 0x76e9e7f97480>\n",
      "<Element {http://www.xsens.com/mvn/mvnx}pos_b at 0x76e9e5d43a00>\n",
      "<Element {http://www.xsens.com/mvn/mvnx}pos_b at 0x76e9e7f97480>\n",
      "<Element {http://www.xsens.com/mvn/mvnx}pos_b at 0x76e9e5d43a00>\n",
      "<Element {http://www.xsens.com/mvn/mvnx}pos_b at 0x76e9e7f97480>\n",
      "<Element {http://www.xsens.com/mvn/mvnx}pos_b at 0x76e9e5d43a00>\n",
      "Segment RightFoot\n",
      "<Element {http://www.xsens.com/mvn/mvnx}pos_b at 0x76e9e5d40240>\n",
      "<Element {http://www.xsens.com/mvn/mvnx}pos_b at 0x76e9e5d43a00>\n",
      "<Element {http://www.xsens.com/mvn/mvnx}pos_b at 0x76e9e5d40240>\n",
      "<Element {http://www.xsens.com/mvn/mvnx}pos_b at 0x76e9e5d43a00>\n",
      "<Element {http://www.xsens.com/mvn/mvnx}pos_b at 0x76e9e5d40240>\n",
      "<Element {http://www.xsens.com/mvn/mvnx}pos_b at 0x76e9e5d43a00>\n",
      "<Element {http://www.xsens.com/mvn/mvnx}pos_b at 0x76e9e5d40240>\n",
      "<Element {http://www.xsens.com/mvn/mvnx}pos_b at 0x76e9e5d43a00>\n",
      "Segment RightToe\n",
      "<Element {http://www.xsens.com/mvn/mvnx}pos_b at 0x76e9e5d41180>\n",
      "<Element {http://www.xsens.com/mvn/mvnx}pos_b at 0x76e9e5d43a00>\n",
      "<Element {http://www.xsens.com/mvn/mvnx}pos_b at 0x76e9e5d41180>\n",
      "Segment LeftUpperLeg\n",
      "<Element {http://www.xsens.com/mvn/mvnx}pos_b at 0x76e9e5d437c0>\n",
      "<Element {http://www.xsens.com/mvn/mvnx}pos_b at 0x76e9e5d41180>\n",
      "<Element {http://www.xsens.com/mvn/mvnx}pos_b at 0x76e9e5d437c0>\n",
      "<Element {http://www.xsens.com/mvn/mvnx}pos_b at 0x76e9e5d41180>\n",
      "<Element {http://www.xsens.com/mvn/mvnx}pos_b at 0x76e9e5d437c0>\n",
      "<Element {http://www.xsens.com/mvn/mvnx}pos_b at 0x76e9e5d41180>\n",
      "Segment LeftLowerLeg\n",
      "<Element {http://www.xsens.com/mvn/mvnx}pos_b at 0x76e9e7f95500>\n",
      "<Element {http://www.xsens.com/mvn/mvnx}pos_b at 0x76e9e5d41180>\n",
      "<Element {http://www.xsens.com/mvn/mvnx}pos_b at 0x76e9e7f95500>\n",
      "<Element {http://www.xsens.com/mvn/mvnx}pos_b at 0x76e9e5d41180>\n",
      "<Element {http://www.xsens.com/mvn/mvnx}pos_b at 0x76e9e7f95500>\n",
      "<Element {http://www.xsens.com/mvn/mvnx}pos_b at 0x76e9e5d41180>\n",
      "Segment LeftFoot\n",
      "<Element {http://www.xsens.com/mvn/mvnx}pos_b at 0x76e9e5d437c0>\n",
      "<Element {http://www.xsens.com/mvn/mvnx}pos_b at 0x76e9e5d41180>\n",
      "<Element {http://www.xsens.com/mvn/mvnx}pos_b at 0x76e9e5d437c0>\n",
      "<Element {http://www.xsens.com/mvn/mvnx}pos_b at 0x76e9e5d41180>\n",
      "<Element {http://www.xsens.com/mvn/mvnx}pos_b at 0x76e9e5d437c0>\n",
      "<Element {http://www.xsens.com/mvn/mvnx}pos_b at 0x76e9e5d41180>\n",
      "<Element {http://www.xsens.com/mvn/mvnx}pos_b at 0x76e9e5d437c0>\n",
      "<Element {http://www.xsens.com/mvn/mvnx}pos_b at 0x76e9e5d41180>\n",
      "Segment LeftToe\n",
      "<Element {http://www.xsens.com/mvn/mvnx}pos_b at 0x76e9e5d42c80>\n",
      "<Element {http://www.xsens.com/mvn/mvnx}pos_b at 0x76e9e5d41180>\n",
      "<Element {http://www.xsens.com/mvn/mvnx}pos_b at 0x76e9e5d42c80>\n"
     ]
    }
   ],
   "source": [
    "position = np.zeros((len(all_labels),3))\n",
    "\n",
    "for segment in segments.getchildren():\n",
    "    name = get_label(segment.items())\n",
    "    print(\"Segment\", name)\n",
    "    points = segment.getchildren()[0]\n",
    "    for point_label in points.getchildren():\n",
    "        for pos_b in point_label.getchildren():\n",
    "            print(pos_b)\n",
    "        #     if item == \"pos_b\":\n",
    "                \n",
    "        # nn = get_label(point.items())\n",
    "        # all_labels.append(nn)"
   ]
  },
  {
   "cell_type": "code",
   "execution_count": null,
   "metadata": {},
   "outputs": [],
   "source": []
  },
  {
   "cell_type": "code",
   "execution_count": 29,
   "metadata": {},
   "outputs": [
    {
     "data": {
      "text/plain": [
       "('label', 'pHipOrigin')"
      ]
     },
     "execution_count": 29,
     "metadata": {},
     "output_type": "execute_result"
    }
   ],
   "source": [
    "label"
   ]
  },
  {
   "cell_type": "code",
   "execution_count": 5,
   "metadata": {},
   "outputs": [
    {
     "name": "stderr",
     "output_type": "stream",
     "text": [
      "/home/hoseung/miniforge3/envs/algorithm/lib/python3.12/site-packages/c3d/c3d.py:1219: UserWarning: No analog data found in file.\n",
      "  warnings.warn('No analog data found in file.')\n"
     ]
    }
   ],
   "source": [
    "reader = c3d.Reader(open('./data/Hoseung/tst-003.c3d', 'rb'))"
   ]
  },
  {
   "cell_type": "code",
   "execution_count": 10,
   "metadata": {},
   "outputs": [
    {
     "data": {
      "text/plain": [
       "1"
      ]
     },
     "execution_count": 10,
     "metadata": {},
     "output_type": "execute_result"
    }
   ],
   "source": [
    "reader.first_frame"
   ]
  }
 ],
 "metadata": {
  "kernelspec": {
   "display_name": "algorithm",
   "language": "python",
   "name": "python3"
  },
  "language_info": {
   "codemirror_mode": {
    "name": "ipython",
    "version": 3
   },
   "file_extension": ".py",
   "mimetype": "text/x-python",
   "name": "python",
   "nbconvert_exporter": "python",
   "pygments_lexer": "ipython3",
   "version": "3.12.5"
  }
 },
 "nbformat": 4,
 "nbformat_minor": 2
}
